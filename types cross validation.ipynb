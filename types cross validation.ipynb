{
 "cells": [
  {
   "cell_type": "code",
   "execution_count": 25,
   "id": "50e0c88a",
   "metadata": {},
   "outputs": [],
   "source": [
    "import numpy as np\n",
    "from sklearn.model_selection import KFold, StratifiedKFold"
   ]
  },
  {
   "cell_type": "code",
   "execution_count": 133,
   "id": "54aa47a2",
   "metadata": {},
   "outputs": [],
   "source": [
    "# proportion of 1: 4/16\n",
    "# proportion of 0: 12/16\n",
    "\n",
    "y = np.array([1, 1, 1, 1, 0, 0, 0, 0, 0, 0, 0, 0, 0, 0, 0, 0, 0])\n",
    "X = y"
   ]
  },
  {
   "cell_type": "code",
   "execution_count": 134,
   "id": "3fb1b520",
   "metadata": {},
   "outputs": [
    {
     "data": {
      "text/plain": [
       "2"
      ]
     },
     "execution_count": 134,
     "metadata": {},
     "output_type": "execute_result"
    }
   ],
   "source": [
    "kf = KFold(n_splits=2)\n",
    "kf.get_n_splits(X)"
   ]
  },
  {
   "cell_type": "code",
   "execution_count": 135,
   "id": "e41b318c",
   "metadata": {},
   "outputs": [
    {
     "name": "stdout",
     "output_type": "stream",
     "text": [
      "Fold 0:\n",
      "  Train: index=[ 9 10 11 12 13 14 15 16]\n",
      "  Test:  index=[0 1 2 3 4 5 6 7 8]\n",
      "Fold 1:\n",
      "  Train: index=[0 1 2 3 4 5 6 7 8]\n",
      "  Test:  index=[ 9 10 11 12 13 14 15 16]\n"
     ]
    }
   ],
   "source": [
    "for i, (train_index, test_index) in enumerate(kf.split(X)):\n",
    "    print(f\"Fold {i}:\")\n",
    "    print(f\"  Train: index={train_index}\")\n",
    "    print(f\"  Test:  index={test_index}\")\n"
   ]
  },
  {
   "cell_type": "code",
   "execution_count": 136,
   "id": "e0f6818e",
   "metadata": {},
   "outputs": [],
   "source": [
    "skf = StratifiedKFold(n_splits=2)"
   ]
  },
  {
   "cell_type": "code",
   "execution_count": 137,
   "id": "dc704f8b",
   "metadata": {},
   "outputs": [
    {
     "name": "stdout",
     "output_type": "stream",
     "text": [
      "Fold 0:\n",
      "  Train: index=[ 2  3 11 12 13 14 15 16]\n",
      "  Test:  index=[ 0  1  4  5  6  7  8  9 10]\n",
      "Fold 1:\n",
      "  Train: index=[ 0  1  4  5  6  7  8  9 10]\n",
      "  Test:  index=[ 2  3 11 12 13 14 15 16]\n"
     ]
    }
   ],
   "source": [
    "for i, (train_index, test_index) in enumerate(skf.split(X, y)):\n",
    "    print(f\"Fold {i}:\")\n",
    "    print(f\"  Train: index={train_index}\")\n",
    "    print(f\"  Test:  index={test_index}\")"
   ]
  },
  {
   "cell_type": "markdown",
   "id": "441651b1",
   "metadata": {},
   "source": [
    "KFold is a cross-validator that divides the dataset into k folds.\n",
    "\n",
    "Stratified is to ensure that each fold of dataset has the same proportion of observations with a given label.\n",
    "\n",
    "FOR EXAMPLE\n",
    "\n",
    "Suppose that there is a dataset with 16 data points and imbalanced class distribution. In the dataset, 12 of data points belong to class A and the rest (i.e. 4) belong to class B. The ratio of class B to class A is 1/3. If we use StratifiedKFold and set k = 4, then, in each iteration, the training sets will include 9 data points from class A and 3 data points from class B while the test sets include 3 data points from class A and 1 data point from class B.\n",
    "\n",
    "As we can see, the class distribution of the dataset is preserved in the splits by StratifiedKFold while KFold does not take this into consideration."
   ]
  }
 ],
 "metadata": {
  "kernelspec": {
   "display_name": "Python 3 (ipykernel)",
   "language": "python",
   "name": "python3"
  },
  "language_info": {
   "codemirror_mode": {
    "name": "ipython",
    "version": 3
   },
   "file_extension": ".py",
   "mimetype": "text/x-python",
   "name": "python",
   "nbconvert_exporter": "python",
   "pygments_lexer": "ipython3",
   "version": "3.11.0"
  }
 },
 "nbformat": 4,
 "nbformat_minor": 5
}
