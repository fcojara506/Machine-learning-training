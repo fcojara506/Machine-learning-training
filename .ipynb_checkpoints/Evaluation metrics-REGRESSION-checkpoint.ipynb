{
 "cells": [
  {
   "cell_type": "markdown",
   "id": "e16342b9",
   "metadata": {},
   "source": [
    "## Regression metrics\n",
    "### the most common used are:\n",
    "* Mean absolute error (MAE)\n",
    "* Mean squared error (MSE)\n",
    "* Root mean squared error (RMSE)\n",
    "* Root mean squared logarithmic error (RMSLE)\n",
    "* Mean percentage error (MPE)\n",
    "* Mean absolute percentage error (MAPE)\n",
    "* Determination coefficient (R^2)"
   ]
  },
  {
   "cell_type": "raw",
   "id": "be9ede98",
   "metadata": {},
   "source": [
    "Definition"
   ]
  }
 ],
 "metadata": {
  "kernelspec": {
   "display_name": "Python 3 (ipykernel)",
   "language": "python",
   "name": "python3"
  },
  "language_info": {
   "codemirror_mode": {
    "name": "ipython",
    "version": 3
   },
   "file_extension": ".py",
   "mimetype": "text/x-python",
   "name": "python",
   "nbconvert_exporter": "python",
   "pygments_lexer": "ipython3",
   "version": "3.11.0"
  }
 },
 "nbformat": 4,
 "nbformat_minor": 5
}
