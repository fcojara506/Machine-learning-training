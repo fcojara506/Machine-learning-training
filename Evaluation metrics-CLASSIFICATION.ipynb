{
 "cells": [
  {
   "cell_type": "markdown",
   "id": "0e90bdd4",
   "metadata": {},
   "source": [
    "## Classfication metrics\n",
    "### the most common used are:\n",
    "* Accuracy\n",
    "* Precision\n",
    "* Recall\n",
    "* F1 score\n",
    "* AUC: Area under the ROC curve\n",
    "* Log loss\n",
    "* Precision at k\n",
    "* Average precision at k\n",
    "* Mean average precison at k"
   ]
  },
  {
   "cell_type": "markdown",
   "id": "8a4923cc",
   "metadata": {},
   "source": [
    "Let's define some of the metrics and when to use them\n",
    "## accuracy\n",
    "Accuracy is a general metric used when the target variable in the classification is NOT skewed, in other words, the proportion of the different outcomes is similar. \n",
    "\n",
    "Example, in a binary output, 50% of the values are 0 and 50% are 1."
   ]
  },
  {
   "cell_type": "code",
   "execution_count": 141,
   "id": "f8d7f956",
   "metadata": {},
   "outputs": [],
   "source": [
    "def accuracy(y_true, y_pred):\n",
    "    \"\"\"\n",
    "    Compute accuracy from\n",
    "    :param y_true: list of true values\n",
    "    :param y_pred: list of predicted values\n",
    "    :return: accuracy score\n",
    "    \"\"\"\n",
    "    #initialise counter of well predicted values\n",
    "    counter = 0\n",
    "    # loop through each value\n",
    "    for y_t, y_p in zip(y_true,y_pred):\n",
    "        # when values are the same increase the counter\n",
    "        if y_t==y_p:\n",
    "            counter+=1\n",
    "    # accuracy is define as the true cases divided by the total number of cases\n",
    "    return counter/len(y_true)"
   ]
  },
  {
   "cell_type": "code",
   "execution_count": 142,
   "id": "78d6cbbc",
   "metadata": {},
   "outputs": [],
   "source": [
    "true_values = [0,1,1,1,0,0,0,1]\n",
    "pred_values = [0,1,0,1,0,1,0,0]"
   ]
  },
  {
   "cell_type": "code",
   "execution_count": 143,
   "id": "4a3f3798",
   "metadata": {},
   "outputs": [
    {
     "data": {
      "text/plain": [
       "0.625"
      ]
     },
     "execution_count": 143,
     "metadata": {},
     "output_type": "execute_result"
    }
   ],
   "source": [
    "accuracy(y_true = true_values,y_pred = pred_values)"
   ]
  },
  {
   "cell_type": "code",
   "execution_count": 144,
   "id": "8d6009ea",
   "metadata": {},
   "outputs": [
    {
     "data": {
      "text/plain": [
       "0.625"
      ]
     },
     "execution_count": 144,
     "metadata": {},
     "output_type": "execute_result"
    }
   ],
   "source": [
    "# most metrics already exists in scikit-learn library\n",
    "from sklearn import metrics\n",
    "metrics.accuracy_score(y_true= true_values,y_pred = pred_values)"
   ]
  },
  {
   "cell_type": "code",
   "execution_count": 145,
   "id": "ae512db2",
   "metadata": {},
   "outputs": [
    {
     "data": {
      "text/plain": [
       "0.9"
      ]
     },
     "execution_count": 145,
     "metadata": {},
     "output_type": "execute_result"
    }
   ],
   "source": [
    "# when the proportion of the outcome is skewed a simple model may have high accuracy\n",
    "true_values = [0,1,0,0,0,0,0,0,0,0]\n",
    "pred_values = [0,1,0,0,0,0,0,1,0,0]\n",
    "\n",
    "accuracy(y_true = true_values,y_pred = pred_values)"
   ]
  },
  {
   "cell_type": "markdown",
   "id": "5e6def8a",
   "metadata": {},
   "source": [
    "Therefore we need to go deeper and analyse the right metrics.For this it's normal to use a conditional probability metric where we define True or False (correct or incorrect prediction) based on the actual target: Positive or Negative (for binary or non-binary target).\n",
    "\n",
    "## True-False and Positive-Negative\n",
    "For a binary target variable A, B.\n",
    "* True Positive (TP): Predicted A, Observed A. \n",
    "* True Negative (TN): Predicted B, Observed B.\n",
    "\n",
    "* False Positive (FP): Predicted A, Observed B.\n",
    "* False Negative (FN): Predicted B, Observed A.\n",
    "\n",
    "Code implementation for binary target:"
   ]
  },
  {
   "cell_type": "code",
   "execution_count": 146,
   "id": "9052425d",
   "metadata": {},
   "outputs": [],
   "source": [
    "def true_positive(y_true,y_pred):\n",
    "    \"\"\"\n",
    "    Funtion to compute True Positive\n",
    "    :param y_true: list of true values\n",
    "    :param y_pred: list of predicted values\n",
    "    :return: number of true positives\n",
    "    \"\"\"\n",
    "    # initialise\n",
    "    counter = 0\n",
    "    # counter the number of 1 when both predicted and values are the same\n",
    "    for yt, yp in zip(y_true,y_pred):\n",
    "        if yt==1 and yp==1:\n",
    "            counter+=1\n",
    "    return counter\n",
    "\n",
    "def true_negative(y_true,y_pred):\n",
    "    \"\"\"\n",
    "    Funtion to compute True Negative\n",
    "    :param y_true: list of true values\n",
    "    :param y_pred: list of predicted values\n",
    "    :return: number of true negatives\n",
    "    \"\"\"\n",
    "    # initialise\n",
    "    counter = 0\n",
    "    # counter the number of 0 when both predicted and values are the same\n",
    "    for yt, yp in zip(y_true,y_pred):\n",
    "        if yt==0 and yp==0:\n",
    "            counter+=1\n",
    "    return counter\n",
    "\n",
    "def false_positive(y_true,y_pred):\n",
    "    \"\"\"\n",
    "    Funtion to compute False Positive\n",
    "    :param y_true: list of true values\n",
    "    :param y_pred: list of predicted values\n",
    "    :return: number of false positives\n",
    "    \"\"\"\n",
    "    # initialise\n",
    "    counter = 0\n",
    "    # counter the number of predicted=1 and observed=0\n",
    "    for yt, yp in zip(y_true,y_pred):\n",
    "        if yt==0 and yp==1:\n",
    "            counter+=1\n",
    "    return counter\n",
    "\n",
    "def false_negative(y_true,y_pred):\n",
    "    \"\"\"\n",
    "    Funtion to compute False Negative\n",
    "    :param y_true: list of true values\n",
    "    :param y_pred: list of predicted values\n",
    "    :return: number of false negatives\n",
    "    \"\"\"\n",
    "    # initialise\n",
    "    counter = 0\n",
    "    # counter the number of predicted=0 and observed=1\n",
    "    for yt, yp in zip(y_true,y_pred):\n",
    "        if yt==1 and yp==0:\n",
    "            counter+=1\n",
    "    return counter\n"
   ]
  },
  {
   "cell_type": "code",
   "execution_count": 147,
   "id": "c339ba05",
   "metadata": {},
   "outputs": [
    {
     "data": {
      "text/plain": [
       "1"
      ]
     },
     "execution_count": 147,
     "metadata": {},
     "output_type": "execute_result"
    }
   ],
   "source": [
    "# let's compute the TF-NP for the example variables\n",
    "true_positive(true_values, pred_values)"
   ]
  },
  {
   "cell_type": "code",
   "execution_count": 148,
   "id": "dccda292",
   "metadata": {},
   "outputs": [
    {
     "data": {
      "text/plain": [
       "8"
      ]
     },
     "execution_count": 148,
     "metadata": {},
     "output_type": "execute_result"
    }
   ],
   "source": [
    "true_negative(true_values, pred_values)"
   ]
  },
  {
   "cell_type": "code",
   "execution_count": 149,
   "id": "4368a655",
   "metadata": {},
   "outputs": [
    {
     "data": {
      "text/plain": [
       "1"
      ]
     },
     "execution_count": 149,
     "metadata": {},
     "output_type": "execute_result"
    }
   ],
   "source": [
    "false_positive(true_values, pred_values)"
   ]
  },
  {
   "cell_type": "code",
   "execution_count": 150,
   "id": "6bfd6828",
   "metadata": {},
   "outputs": [
    {
     "data": {
      "text/plain": [
       "0"
      ]
     },
     "execution_count": 150,
     "metadata": {},
     "output_type": "execute_result"
    }
   ],
   "source": [
    "false_negative(true_values, pred_values)"
   ]
  },
  {
   "cell_type": "markdown",
   "id": "5601f89f",
   "metadata": {},
   "source": [
    "## metrics based in True-False Positive-Negative\n",
    "### Accuracy = (true values)/(total count)= (TP+TN)/(TP+TN+FP+FN)"
   ]
  },
  {
   "cell_type": "code",
   "execution_count": 151,
   "id": "720a58ff",
   "metadata": {},
   "outputs": [
    {
     "data": {
      "text/plain": [
       "0.9"
      ]
     },
     "execution_count": 151,
     "metadata": {},
     "output_type": "execute_result"
    }
   ],
   "source": [
    "def accuracy_(y_true,y_pred):\n",
    "    tp = true_positive(y_true, y_pred)\n",
    "    tn = true_negative(y_true, y_pred)\n",
    "    fp = false_positive(y_true,y_pred)\n",
    "    fn = false_negative(y_true,y_pred)\n",
    "    \n",
    "    return (tp+tn)/(tp+tn+fp+fn)\n",
    "\n",
    "#example\n",
    "accuracy_(true_values,pred_values)"
   ]
  },
  {
   "cell_type": "markdown",
   "id": "6b1bb8fa",
   "metadata": {},
   "source": [
    "### Precision = (true positives)/positives TP/(TP+FP)"
   ]
  },
  {
   "cell_type": "code",
   "execution_count": 152,
   "id": "a2bc1c27",
   "metadata": {},
   "outputs": [
    {
     "data": {
      "text/plain": [
       "0.5"
      ]
     },
     "execution_count": 152,
     "metadata": {},
     "output_type": "execute_result"
    }
   ],
   "source": [
    "def precision(y_true, y_pred):\n",
    "    tp = true_positive(y_true,y_pred)\n",
    "    fp = false_positive(y_true,y_pred)\n",
    "    \n",
    "    return tp/(tp+fp)\n",
    "#example\n",
    "precision(true_values,pred_values)"
   ]
  },
  {
   "cell_type": "markdown",
   "id": "800b90e4",
   "metadata": {},
   "source": [
    "### Recall = TP/(TP+FN)"
   ]
  },
  {
   "cell_type": "code",
   "execution_count": 153,
   "id": "b54202ea",
   "metadata": {},
   "outputs": [
    {
     "data": {
      "text/plain": [
       "1.0"
      ]
     },
     "execution_count": 153,
     "metadata": {},
     "output_type": "execute_result"
    }
   ],
   "source": [
    "def recall(y_true, y_pred):\n",
    "    tp = true_positive(y_true,y_pred)\n",
    "    fn = false_negative(y_true,y_pred)\n",
    "    \n",
    "    return tp/(tp+fn)\n",
    "#example\n",
    "recall(true_values,pred_values)"
   ]
  },
  {
   "cell_type": "markdown",
   "id": "9f3dad80",
   "metadata": {},
   "source": [
    "F1-score is the harmonic mean of recall and precision\n",
    "### F1-score =  2 precision * recall / (precision+recall)\n",
    "### F1-score =  2TP/(2TP+FP+FN)"
   ]
  },
  {
   "cell_type": "code",
   "execution_count": 154,
   "id": "644ec922",
   "metadata": {},
   "outputs": [
    {
     "data": {
      "text/plain": [
       "0.6666666666666666"
      ]
     },
     "execution_count": 154,
     "metadata": {},
     "output_type": "execute_result"
    }
   ],
   "source": [
    "def f1(y_true,y_pred):\n",
    "    p = precision(y_true,y_pred)\n",
    "    r = recall(y_true,y_pred)\n",
    "    \n",
    "    return 2*p*r/(r+p)\n",
    "#example\n",
    "f1(true_values,pred_values)"
   ]
  },
  {
   "cell_type": "markdown",
   "id": "16710c79",
   "metadata": {},
   "source": [
    "## other useful metrics\n",
    "### True positive rate = recall, sensitivity. TPR = TP/(TP+FN)\n",
    "\n",
    "### False positive rate. FPR= TN/(TN+FP)"
   ]
  },
  {
   "cell_type": "code",
   "execution_count": 155,
   "id": "729a1692",
   "metadata": {},
   "outputs": [],
   "source": [
    "def tpr(y_true,y_pred):\n",
    "    return recall(y_true,y_pred)\n",
    "\n",
    "def fpr(y_true,y_pred):\n",
    "    tn = true_negative(y_true,y_pred)\n",
    "    fp = false_positive(y_true,y_pred)\n",
    "    return fp/(tn+fp)"
   ]
  },
  {
   "cell_type": "markdown",
   "id": "b0757c65",
   "metadata": {},
   "source": [
    "## Metrics when target is probability of being Positive\n",
    "we need to define a threshold (normally 0.5) to assign when is positive\n"
   ]
  },
  {
   "cell_type": "code",
   "execution_count": 203,
   "id": "e561a7df",
   "metadata": {},
   "outputs": [],
   "source": [
    "# actual values\n",
    "y_true = [0,0,0,0,1,0,1,0,0,1,0,1,0,0,1]\n",
    "\n",
    "# predicted probabilities of being 1\n",
    "y_pred = [0.1,0.3,0.2,0.6,0.8,0.05,0.9,0.5,0.3,0.66,0.3,0.2,0.85,0.15,0.99]\n",
    "\n",
    "# threshold\n",
    "thresholds = [.01,.05,.1,.15,.2,.25,.3,.35,.4,.45,.5,.55,.6,.65,.7,.75,.8,.85,.9,.95,.99]\n",
    "\n",
    "tpr_list = []\n",
    "fpr_list = []\n",
    "precision_list = []\n",
    "recall_list=[]\n",
    "\n",
    "# change prediction (positive depending on the threshold)\n",
    "for t in thresholds:\n",
    "    #prediction of positives\n",
    "    temp_pred = [1 if x >= t else 0 for x in y_pred ]\n",
    "    #print(temp_pred)\n",
    "    # TEMPORAL METRICS\n",
    "    # true positive rate \n",
    "    temp_tpr = tpr(y_true,temp_pred)\n",
    "    # false positive rate\n",
    "    temp_fpr = fpr(y_true,temp_pred)\n",
    "    \n",
    "    #precision\n",
    "    temp_precision = precision(y_true,temp_pred)\n",
    "    #recall\n",
    "    temp_recall = recall(y_true,temp_pred)\n",
    "    \n",
    "    \n",
    "    #save the metrics\n",
    "    tpr_list.append(temp_tpr)\n",
    "    fpr_list.append(temp_fpr)\n",
    "    \n",
    "    precision_list.append(temp_precision)\n",
    "    recall_list.append(temp_recall)\n",
    "    \n",
    "    "
   ]
  },
  {
   "cell_type": "markdown",
   "id": "508a5c1f",
   "metadata": {},
   "source": [
    "### precision-recall curve"
   ]
  },
  {
   "cell_type": "code",
   "execution_count": 209,
   "id": "695452ec",
   "metadata": {},
   "outputs": [
    {
     "data": {
      "image/png": "[encoded data removed]",
      "text/plain": [
       "<Figure size 700x700 with 1 Axes>"
      ]
     },
     "metadata": {},
     "output_type": "display_data"
    }
   ],
   "source": [
    "# precision-recall curve\n",
    "plt.figure(figsize = (7,7))\n",
    "plt.plot(recall_list,precision_list)\n",
    "\n",
    "plt.scatter(recall_list,precision_list,label = 'threshold')\n",
    "\n",
    "for t, txt in enumerate(thresholds):\n",
    "    plt.annotate(txt, (recall_list[t], precision_list[t]))\n",
    "\n",
    "plt.xlim(0,1)\n",
    "plt.ylim(0,1)\n",
    "plt.xlabel('Recall')\n",
    "plt.ylabel('Precision')\n",
    "plt.title('Precision-Recall curve')\n",
    "plt.show()"
   ]
  },
  {
   "cell_type": "markdown",
   "id": "b689730d",
   "metadata": {},
   "source": [
    "### ROC curve"
   ]
  },
  {
   "cell_type": "code",
   "execution_count": 218,
   "id": "1c1500ae",
   "metadata": {},
   "outputs": [
    {
     "data": {
      "text/html": [
       "<div>\n",
       "<style scoped>\n",
       "    .dataframe tbody tr th:only-of-type {\n",
       "        vertical-align: middle;\n",
       "    }\n",
       "\n",
       "    .dataframe tbody tr th {\n",
       "        vertical-align: top;\n",
       "    }\n",
       "\n",
       "    .dataframe thead th {\n",
       "        text-align: right;\n",
       "    }\n",
       "</style>\n",
       "<table border=\"1\" class=\"dataframe\">\n",
       "  <thead>\n",
       "    <tr style=\"text-align: right;\">\n",
       "      <th></th>\n",
       "      <th>tpr</th>\n",
       "      <th>fpr</th>\n",
       "      <th>threshold</th>\n",
       "    </tr>\n",
       "  </thead>\n",
       "  <tbody>\n",
       "    <tr>\n",
       "      <th>0</th>\n",
       "      <td>1.0</td>\n",
       "      <td>1.0</td>\n",
       "      <td>0.01</td>\n",
       "    </tr>\n",
       "    <tr>\n",
       "      <th>1</th>\n",
       "      <td>1.0</td>\n",
       "      <td>1.0</td>\n",
       "      <td>0.05</td>\n",
       "    </tr>\n",
       "    <tr>\n",
       "      <th>2</th>\n",
       "      <td>1.0</td>\n",
       "      <td>0.9</td>\n",
       "      <td>0.10</td>\n",
       "    </tr>\n",
       "    <tr>\n",
       "      <th>3</th>\n",
       "      <td>1.0</td>\n",
       "      <td>0.8</td>\n",
       "      <td>0.15</td>\n",
       "    </tr>\n",
       "    <tr>\n",
       "      <th>4</th>\n",
       "      <td>1.0</td>\n",
       "      <td>0.7</td>\n",
       "      <td>0.20</td>\n",
       "    </tr>\n",
       "    <tr>\n",
       "      <th>5</th>\n",
       "      <td>0.8</td>\n",
       "      <td>0.6</td>\n",
       "      <td>0.25</td>\n",
       "    </tr>\n",
       "    <tr>\n",
       "      <th>6</th>\n",
       "      <td>0.8</td>\n",
       "      <td>0.6</td>\n",
       "      <td>0.30</td>\n",
       "    </tr>\n",
       "    <tr>\n",
       "      <th>7</th>\n",
       "      <td>0.8</td>\n",
       "      <td>0.3</td>\n",
       "      <td>0.35</td>\n",
       "    </tr>\n",
       "    <tr>\n",
       "      <th>8</th>\n",
       "      <td>0.8</td>\n",
       "      <td>0.3</td>\n",
       "      <td>0.40</td>\n",
       "    </tr>\n",
       "    <tr>\n",
       "      <th>9</th>\n",
       "      <td>0.8</td>\n",
       "      <td>0.3</td>\n",
       "      <td>0.45</td>\n",
       "    </tr>\n",
       "    <tr>\n",
       "      <th>10</th>\n",
       "      <td>0.8</td>\n",
       "      <td>0.3</td>\n",
       "      <td>0.50</td>\n",
       "    </tr>\n",
       "    <tr>\n",
       "      <th>11</th>\n",
       "      <td>0.8</td>\n",
       "      <td>0.2</td>\n",
       "      <td>0.55</td>\n",
       "    </tr>\n",
       "    <tr>\n",
       "      <th>12</th>\n",
       "      <td>0.8</td>\n",
       "      <td>0.2</td>\n",
       "      <td>0.60</td>\n",
       "    </tr>\n",
       "    <tr>\n",
       "      <th>13</th>\n",
       "      <td>0.8</td>\n",
       "      <td>0.1</td>\n",
       "      <td>0.65</td>\n",
       "    </tr>\n",
       "    <tr>\n",
       "      <th>14</th>\n",
       "      <td>0.6</td>\n",
       "      <td>0.1</td>\n",
       "      <td>0.70</td>\n",
       "    </tr>\n",
       "    <tr>\n",
       "      <th>15</th>\n",
       "      <td>0.6</td>\n",
       "      <td>0.1</td>\n",
       "      <td>0.75</td>\n",
       "    </tr>\n",
       "    <tr>\n",
       "      <th>16</th>\n",
       "      <td>0.6</td>\n",
       "      <td>0.1</td>\n",
       "      <td>0.80</td>\n",
       "    </tr>\n",
       "    <tr>\n",
       "      <th>17</th>\n",
       "      <td>0.4</td>\n",
       "      <td>0.1</td>\n",
       "      <td>0.85</td>\n",
       "    </tr>\n",
       "    <tr>\n",
       "      <th>18</th>\n",
       "      <td>0.4</td>\n",
       "      <td>0.0</td>\n",
       "      <td>0.90</td>\n",
       "    </tr>\n",
       "    <tr>\n",
       "      <th>19</th>\n",
       "      <td>0.2</td>\n",
       "      <td>0.0</td>\n",
       "      <td>0.95</td>\n",
       "    </tr>\n",
       "    <tr>\n",
       "      <th>20</th>\n",
       "      <td>0.2</td>\n",
       "      <td>0.0</td>\n",
       "      <td>0.99</td>\n",
       "    </tr>\n",
       "  </tbody>\n",
       "</table>\n",
       "</div>"
      ],
      "text/plain": [
       "    tpr  fpr  threshold\n",
       "0   1.0  1.0       0.01\n",
       "1   1.0  1.0       0.05\n",
       "2   1.0  0.9       0.10\n",
       "3   1.0  0.8       0.15\n",
       "4   1.0  0.7       0.20\n",
       "5   0.8  0.6       0.25\n",
       "6   0.8  0.6       0.30\n",
       "7   0.8  0.3       0.35\n",
       "8   0.8  0.3       0.40\n",
       "9   0.8  0.3       0.45\n",
       "10  0.8  0.3       0.50\n",
       "11  0.8  0.2       0.55\n",
       "12  0.8  0.2       0.60\n",
       "13  0.8  0.1       0.65\n",
       "14  0.6  0.1       0.70\n",
       "15  0.6  0.1       0.75\n",
       "16  0.6  0.1       0.80\n",
       "17  0.4  0.1       0.85\n",
       "18  0.4  0.0       0.90\n",
       "19  0.2  0.0       0.95\n",
       "20  0.2  0.0       0.99"
      ]
     },
     "execution_count": 218,
     "metadata": {},
     "output_type": "execute_result"
    }
   ],
   "source": [
    "import pandas as pd\n",
    "df_roc = pd.DataFrame()\n",
    "df_roc['tpr'] = tpr_list\n",
    "df_roc['fpr'] = fpr_list\n",
    "df_roc['threshold'] = thresholds\n",
    "\n",
    "df_roc"
   ]
  },
  {
   "cell_type": "code",
   "execution_count": 207,
   "id": "d7ba578d",
   "metadata": {},
   "outputs": [
    {
     "data": {
      "image/png": "[encoded data removed]",
      "text/plain": [
       "<Figure size 700x700 with 1 Axes>"
      ]
     },
     "metadata": {},
     "output_type": "display_data"
    }
   ],
   "source": [
    "import matplotlib.pyplot as plt\n",
    "plt.figure(figsize = (7,7))\n",
    "plt.fill_between(fpr_list,tpr_list,label = 'ROC')\n",
    "plt.scatter(fpr_list,tpr_list,label = 'threshold')\n",
    "\n",
    "for t, txt in enumerate(thresholds):\n",
    "    plt.annotate(txt, (fpr_list[t], tpr_list[t]))\n",
    "    \n",
    "plt.legend()\n",
    "plt.xlim(0,1)\n",
    "plt.ylim(0,1)\n",
    "plt.xlabel('False Positive Rate')\n",
    "plt.ylabel('True Positive Rate')\n",
    "plt.title('Receiver Operating Characteric (ROC) curve')\n",
    "plt.show()"
   ]
  },
  {
   "cell_type": "markdown",
   "id": "286b2c86",
   "metadata": {},
   "source": [
    "### Area Under the ROC curve (AUC)"
   ]
  },
  {
   "cell_type": "code",
   "execution_count": 220,
   "id": "8be8837f",
   "metadata": {},
   "outputs": [
    {
     "data": {
      "text/plain": [
       "0.8300000000000001"
      ]
     },
     "execution_count": 220,
     "metadata": {},
     "output_type": "execute_result"
    }
   ],
   "source": [
    "from sklearn import metrics\n",
    "metrics.roc_auc_score(y_true,y_pred)"
   ]
  },
  {
   "cell_type": "markdown",
   "id": "b7a3a6cc",
   "metadata": {},
   "source": [
    "AUC range from 0 to 1:\n",
    "\n",
    "* AUC = 1. Perfect model. For real data, normally means there was a error in the validation.\n",
    "* AUC = 0. very bad model for Positive (or very good for Negative). problem with validation or data processing.\n",
    "* AUC = 0.5. Prediction are random (for binary target).\n",
    "AUC between (0,0.5) are worse than random (for binary target)"
   ]
  },
  {
   "cell_type": "markdown",
   "id": "f62ac6aa",
   "metadata": {},
   "source": [
    "ROC curve helps to choose a threshold for the \"false positive vs true positive\" trade-off. In this case if you want to minimise the False positive (x to the left) and maximise the True positive (y upwards).\n",
    "\n",
    "For the example, the chosen threshold should be 0.65 (up-left corner of ROC)."
   ]
  },
  {
   "cell_type": "markdown",
   "id": "bbafedeb",
   "metadata": {},
   "source": [
    "## logarithmic loss or log loss\n",
    "\n",
    "For a binary classification target the log loss is defined as follows\n",
    "\n",
    "* Log Loss = -1*(target * log(prob_prediction) + (1-target) * log(1-prob_prediction))\n",
    "\n",
    "target is either 0 or 1\n",
    "\n",
    "prob_prediction is the probability of a sample to being \"1\".\n",
    "\n",
    "Implementation requires to convert 0 into 1e-15 to avoid error in log.\n"
   ]
  },
  {
   "cell_type": "code",
   "execution_count": 223,
   "id": "1d906b75",
   "metadata": {},
   "outputs": [
    {
     "data": {
      "text/plain": [
       "0.49882711861432294"
      ]
     },
     "execution_count": 223,
     "metadata": {},
     "output_type": "execute_result"
    }
   ],
   "source": [
    "metrics.log_loss(y_true,y_pred)"
   ]
  },
  {
   "cell_type": "markdown",
   "id": "39f55835",
   "metadata": {},
   "source": [
    "Log loss will penalise hard on non confident predictions. "
   ]
  },
  {
   "cell_type": "markdown",
   "id": "849e933b",
   "metadata": {},
   "source": [
    "## multi-class classification"
   ]
  },
  {
   "cell_type": "code",
   "execution_count": 259,
   "id": "f20ab5ad",
   "metadata": {},
   "outputs": [],
   "source": [
    "y_true_multi = [0,1,2,0,1,2,0,0,2]\n",
    "y_pred_multi = [0,0,2,0,1,2,2,1,2]"
   ]
  },
  {
   "cell_type": "markdown",
   "id": "5fe3faf7",
   "metadata": {},
   "source": [
    "* macro averaged precision: compute precision by class then average all."
   ]
  },
  {
   "cell_type": "code",
   "execution_count": 260,
   "id": "11f29b91",
   "metadata": {},
   "outputs": [
    {
     "data": {
      "text/plain": [
       "0.6388888888888888"
      ]
     },
     "execution_count": 260,
     "metadata": {},
     "output_type": "execute_result"
    }
   ],
   "source": [
    "metrics.precision_score(y_true_multi,y_pred_multi,average = \"macro\")"
   ]
  },
  {
   "cell_type": "markdown",
   "id": "8a4a6ca1",
   "metadata": {},
   "source": [
    "* micro averaged precision: accumulative true positive and false positive by class, then precision = tp/(tp+fp)"
   ]
  },
  {
   "cell_type": "code",
   "execution_count": 261,
   "id": "a81e0275",
   "metadata": {},
   "outputs": [
    {
     "data": {
      "text/plain": [
       "0.6666666666666666"
      ]
     },
     "execution_count": 261,
     "metadata": {},
     "output_type": "execute_result"
    }
   ],
   "source": [
    "metrics.precision_score(y_true_multi,y_pred_multi,average = \"micro\")"
   ]
  },
  {
   "cell_type": "markdown",
   "id": "22073ac8",
   "metadata": {},
   "source": [
    "* weighted averaged precision: accumulative true positive and false positive by class, then precision = tp/(tp+fp), weight by the number of samples in each class.\n"
   ]
  },
  {
   "cell_type": "code",
   "execution_count": 263,
   "id": "c98ec963",
   "metadata": {},
   "outputs": [
    {
     "data": {
      "text/plain": [
       "0.6574074074074073"
      ]
     },
     "execution_count": 263,
     "metadata": {},
     "output_type": "execute_result"
    }
   ],
   "source": [
    "metrics.precision_score(y_true_multi,y_pred_multi,average = \"weighted\")"
   ]
  },
  {
   "cell_type": "markdown",
   "id": "8da1f4ff",
   "metadata": {},
   "source": [
    "## confusion matrix\n",
    "This matrix help to summarise all the predicted vs actual targets results.\n"
   ]
  },
  {
   "cell_type": "code",
   "execution_count": 271,
   "id": "8d136bf9",
   "metadata": {},
   "outputs": [
    {
     "data": {
      "text/plain": [
       "array([[3, 0, 0],\n",
       "       [0, 0, 2],\n",
       "       [1, 2, 1]])"
      ]
     },
     "execution_count": 271,
     "metadata": {},
     "output_type": "execute_result"
    }
   ],
   "source": [
    "y_true = [0,1,2,0,1,2,0,2,2]\n",
    "y_pred = [0,2,1,0,2,1,0,0,2]\n",
    "\n",
    "# confusion matrix from scikit learn\n",
    "cm = metrics.confusion_matrix(y_true,y_pred)\n",
    "cm"
   ]
  },
  {
   "cell_type": "code",
   "execution_count": 277,
   "id": "6ca56551",
   "metadata": {},
   "outputs": [
    {
     "data": {
      "image/png": "[encoded data removed]",
      "text/plain": [
       "<Figure size 300x300 with 1 Axes>"
      ]
     },
     "metadata": {},
     "output_type": "display_data"
    }
   ],
   "source": [
    "import seaborn as sns\n",
    "plt.figure(figsize = (3,3))\n",
    "sns.heatmap(cm, annot=True,cbar=False)\n",
    "plt.xlabel('Predicted Labels')\n",
    "plt.ylabel('Actual Labels')\n",
    "plt.show()\n",
    "\n"
   ]
  }
 ],
 "metadata": {
  "kernelspec": {
   "display_name": "Python 3 (ipykernel)",
   "language": "python",
   "name": "python3"
  },
  "language_info": {
   "codemirror_mode": {
    "name": "ipython",
    "version": 3
   },
   "file_extension": ".py",
   "mimetype": "text/x-python",
   "name": "python",
   "nbconvert_exporter": "python",
   "pygments_lexer": "ipython3",
   "version": "3.11.0"
  }
 },
 "nbformat": 4,
 "nbformat_minor": 5
}
