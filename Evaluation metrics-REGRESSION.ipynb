{
 "cells": [
  {
   "cell_type": "markdown",
   "id": "e16342b9",
   "metadata": {},
   "source": [
    "## Regression metrics\n",
    "### the most common used are:\n",
    "* Mean absolute error (MAE)\n",
    "* Mean squared error (MSE)\n",
    "* Root mean squared error (RMSE)\n",
    "* Root mean squared logarithmic error (RMSLE)\n",
    "* Mean percentage error (MPE)\n",
    "* Mean absolute percentage error (MAPE)\n",
    "* Determination coefficient (R^2)"
   ]
  },
  {
   "cell_type": "markdown",
   "id": "f9a971df",
   "metadata": {},
   "source": [
    "DEFINITIONS\n",
    "\n",
    "error = True value - Predicted value\n",
    "\n",
    "absolute error = |True value - Predicted value|\n",
    "\n",
    "**mean absolute error = mean(absolute error)**"
   ]
  },
  {
   "cell_type": "code",
   "execution_count": 2,
   "id": "aaca2c75",
   "metadata": {},
   "outputs": [],
   "source": [
    "def mean_absolute_error(y_true, y_pred):\n",
    "    \"\"\" This function computes de MAE\n",
    "    :param y_true: list of true values \n",
    "    :param y_pred: list of predicted values\n",
    "    :return: mean absolute error\n",
    "    \"\"\"\n",
    "    #initialise error\n",
    "    error = 0\n",
    "    #loop through all the list\n",
    "    for y_t, y_p in zip(y_true,y_pred):\n",
    "        error += abs(y_t-y_p)\n",
    "    return error/len(y_true)"
   ]
  },
  {
   "cell_type": "markdown",
   "id": "11e6624a",
   "metadata": {},
   "source": [
    "**mean squared error = mean(error^2)**"
   ]
  },
  {
   "cell_type": "code",
   "execution_count": 4,
   "id": "59764c26",
   "metadata": {},
   "outputs": [],
   "source": [
    "def mean_squared_error(y_true, y_pred):\n",
    "    \"\"\"\n",
    "    This function computes de MSE\n",
    "    :param y_true: list of true values \n",
    "    :param y_pred: list of predicted values\n",
    "    :return: mean squared error\n",
    "    \"\"\"\n",
    "    # initialise error\n",
    "    error = 0\n",
    "    #loop through all the list\n",
    "    for y_t, y_p in zip(y_true,y_pred):\n",
    "        error += (y_t-y_p)**2\n",
    "    return error/len(y_true)\n"
   ]
  },
  {
   "cell_type": "markdown",
   "id": "2b3155e1",
   "metadata": {},
   "source": [
    "**Root mean squared error = squared(mean(error^2))**"
   ]
  },
  {
   "cell_type": "markdown",
   "id": "24c2dca4",
   "metadata": {},
   "source": [
    "**mean squared logarithmic error (MSLE)**"
   ]
  },
  {
   "cell_type": "code",
   "execution_count": 6,
   "id": "eb6a46db",
   "metadata": {},
   "outputs": [],
   "source": [
    "import numpy as np\n",
    "\n",
    "def mean_squared_log_error(y_true,y_pred):\n",
    "    \"\"\"\n",
    "    This function computes de MSLE\n",
    "    :param y_true: list of true values \n",
    "    :param y_pred: list of predicted values\n",
    "    :return: mean squared log error\n",
    "    \"\"\"\n",
    "    # initialise error\n",
    "    error = 0\n",
    "    #loop through all the list\n",
    "    for y_t, y_p in zip(y_true,y_pred):\n",
    "        error += (np.log(1 + y_t) - np.log(1 + y_p))**2\n",
    "        \n",
    "    return error/len(y_true)"
   ]
  },
  {
   "cell_type": "markdown",
   "id": "694c880e",
   "metadata": {},
   "source": [
    "Percentage error or percentage bias\n",
    "\n",
    "Percentage error = 100 * (True value - Predicted value)/True value"
   ]
  },
  {
   "cell_type": "code",
   "execution_count": 8,
   "id": "91183f7e",
   "metadata": {},
   "outputs": [],
   "source": [
    "def mean_percentage_error(y_true,y_pred):    \n",
    "    \"\"\"\n",
    "    This function computes de MPE\n",
    "    :param y_true: list of true values \n",
    "    :param y_pred: list of predicted values\n",
    "    :return: mean percentage error\n",
    "    \"\"\"\n",
    "    # initialise error\n",
    "    error = 0\n",
    "    #loop through all the list\n",
    "    for y_t, y_p in zip(y_true,y_pred):\n",
    "        error += (y_t-y_p) / y_t\n",
    "    \n",
    "    return error / len(y_true)"
   ]
  },
  {
   "cell_type": "markdown",
   "id": "2d2daf9d",
   "metadata": {},
   "source": [
    "Coefficient of determination (R^2)\n",
    "\n",
    "$$\n",
    "\\text{R}^2 = 1 - \\frac{\\sum\\limits_{i=1}^n (y_{ti} - y_{pi})^2}{\\sum\\limits_{i=1}^n (y_{ti} - \\bar{y_t})^2}\n",
    "$$\n"
   ]
  },
  {
   "cell_type": "code",
   "execution_count": 12,
   "id": "155cb051",
   "metadata": {},
   "outputs": [],
   "source": [
    "import numpy as np\n",
    "\n",
    "def r2(y_true,y_pred):\n",
    "    \"\"\"\n",
    "    This function computes de R2\n",
    "    :param y_true: list of true values \n",
    "    :param y_pred: list of predicted values\n",
    "    :return: r2 score, coefficient of determination \n",
    "    \"\"\"\n",
    "    # averaga true value\n",
    "    mean_true_value = np.mean(y_true)\n",
    "    \n",
    "    # initialise equation sides\n",
    "    numerator = 0\n",
    "    denominator = 0\n",
    "    \n",
    "    #loop through all the list\n",
    "    for y_t, y_p in zip(y_true,y_pred):\n",
    "        numerator += (y_t - y_p)**2\n",
    "        denominator += (y_t - mean_true_value)**2\n",
    "    \n",
    "    return 1- numerator / denominator"
   ]
  },
  {
   "cell_type": "markdown",
   "id": "1bbf9a44",
   "metadata": {},
   "source": [
    "## **Advanced metrics**\n",
    "quadratic weighted kappa (QWK), also known as Cohen's kappa."
   ]
  },
  {
   "cell_type": "code",
   "execution_count": 15,
   "id": "bf973ba1",
   "metadata": {},
   "outputs": [
    {
     "data": {
      "text/plain": [
       "0.5"
      ]
     },
     "execution_count": 15,
     "metadata": {},
     "output_type": "execute_result"
    }
   ],
   "source": [
    "from sklearn import metrics\n",
    "\n",
    "y_true = [1,2,3,1,2,3,1,2,3]\n",
    "y_pred = [1,2,3,1,2,3,3,1,2]\n",
    "\n",
    "QWK = metrics.cohen_kappa_score(y_true, y_pred, weights = 'quadratic')\n",
    "accuracy = metrics.accuracy_score(y_true, y_pred)\n",
    "\n",
    "QWK"
   ]
  },
  {
   "cell_type": "code",
   "execution_count": 17,
   "id": "08e7884f",
   "metadata": {},
   "outputs": [
    {
     "data": {
      "text/plain": [
       "0.6666666666666666"
      ]
     },
     "execution_count": 17,
     "metadata": {},
     "output_type": "execute_result"
    }
   ],
   "source": [
    "accuracy"
   ]
  },
  {
   "cell_type": "markdown",
   "id": "b7a0a2bd",
   "metadata": {},
   "source": [
    "**Matthew's Correlation coefficient (MCC)**"
   ]
  },
  {
   "cell_type": "code",
   "execution_count": 18,
   "id": "7aa59023",
   "metadata": {},
   "outputs": [
    {
     "data": {
      "text/plain": [
       "0.5"
      ]
     },
     "execution_count": 18,
     "metadata": {},
     "output_type": "execute_result"
    }
   ],
   "source": [
    "metrics.matthews_corrcoef(y_true, y_pred)"
   ]
  }
 ],
 "metadata": {
  "kernelspec": {
   "display_name": "Python 3 (ipykernel)",
   "language": "python",
   "name": "python3"
  },
  "language_info": {
   "codemirror_mode": {
    "name": "ipython",
    "version": 3
   },
   "file_extension": ".py",
   "mimetype": "text/x-python",
   "name": "python",
   "nbconvert_exporter": "python",
   "pygments_lexer": "ipython3",
   "version": "3.11.0"
  }
 },
 "nbformat": 4,
 "nbformat_minor": 5
}
